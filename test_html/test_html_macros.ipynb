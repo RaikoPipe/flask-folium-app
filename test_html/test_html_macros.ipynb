{
 "cells": [
  {
   "cell_type": "code",
   "execution_count": 1,
   "metadata": {
    "collapsed": true
   },
   "outputs": [],
   "source": [
    "from branca.element import MacroElement, Template, Figure"
   ]
  },
  {
   "cell_type": "code",
   "execution_count": 7,
   "outputs": [
    {
     "data": {
      "text/plain": "<branca.element.Figure at 0x1df7f141cc0>",
      "text/html": "<div style=\"width:100%;\"><div style=\"position:relative;width:100%;height:0;padding-bottom:60%;\"><span style=\"color:#565656\">Make this Notebook Trusted to load map: File -> Trust Notebook</span><iframe srcdoc=\"&lt;!DOCTYPE html&gt;\n&lt;head&gt;    \n    &lt;meta http-equiv=&quot;content-type&quot; content=&quot;text/html; charset=UTF-8&quot; /&gt;\n&lt;/head&gt;\n&lt;body&gt;    \n    \n\n&lt;html lang=&quot;en&quot;&gt;\n&lt;head&gt;\n  &lt;meta charset=&quot;utf-8&quot;&gt;\n  &lt;meta name=&quot;viewport&quot; content=&quot;width=device-width, initial-scale=1&quot;&gt;\n  &lt;title&gt;jQuery UI Draggable - Default functionality&lt;/title&gt;\n  &lt;link rel=&quot;stylesheet&quot; href=&quot;//code.jquery.com/ui/1.12.1/themes/base/jquery-ui.css&quot;&gt;\n\n  &lt;script src=&quot;https://code.jquery.com/jquery-1.12.4.js&quot;&gt;&lt;/script&gt;\n  &lt;script src=&quot;https://code.jquery.com/ui/1.12.1/jquery-ui.js&quot;&gt;&lt;/script&gt;\n\n&lt;/head&gt;\n&lt;body&gt;\n\n\n&lt;div id=&#x27;maplegend&#x27; class=&#x27;maplegend&#x27;\n    style=&#x27;position: absolute; z-index:9999; border:2px solid grey; background-color:rgba(255, 255, 255, 0.8);\n     border-radius:6px; padding: 10px; font-size:14px; right: 20px; bottom: 20px;&#x27;&gt;\n\n&lt;div class=&#x27;legend-title&#x27;&gt;Station Information&lt;/div&gt;\n&lt;div class=&#x27;legend-scale&#x27;&gt;\n  &lt;ul class=&#x27;legend-labels&#x27;&gt;\n    &lt;li&gt;You need a loop that makes entries for these lists&lt;/li&gt;\n    &lt;li&gt;Or define a fixed number of arguments that represent the list&lt;/li&gt;\n    &lt;li&gt;Thanks, thats all.&lt;/li&gt;\n  &lt;/ul&gt;\n\n&lt;/div&gt;\n  &lt;button&gt;Test Button&lt;/button&gt;\n&lt;/div&gt;\n\n&lt;/body&gt;\n&lt;/html&gt;\n\n&lt;style&gt;\n  .maplegend .legend-title {\n    text-align: left;\n    margin-bottom: 5px;\n    font-weight: bold;\n    font-size: 90%;\n    }\n  .maplegend .legend-scale ul {\n    margin: 0;\n    margin-bottom: 5px;\n    padding: 0;\n    float: left;\n    list-style: none;\n    }\n  .maplegend .legend-scale ul li {\n    font-size: 80%;\n    list-style: none;\n    margin-left: 0;\n    line-height: 18px;\n    margin-bottom: 2px;\n    }\n  .maplegend ul.legend-labels li span {\n    display: block;\n    float: left;\n    height: 16px;\n    width: 30px;\n    margin-right: 5px;\n    margin-left: 0;\n    border: 1px solid #999;\n    }\n  .maplegend .legend-source {\n    font-size: 80%;\n    color: #777;\n    clear: both;\n    }\n  .maplegend a {\n    color: #777;\n    }\n&lt;/style&gt;\n&lt;/body&gt;\n&lt;script&gt;    \n&lt;/script&gt;\" style=\"position:absolute;width:100%;height:100%;left:0;top:0;border:none !important;\" allowfullscreen webkitallowfullscreen mozallowfullscreen></iframe></div></div>"
     },
     "execution_count": 7,
     "metadata": {},
     "output_type": "execute_result"
    }
   ],
   "source": [
    "with open(\"../html_elements/station_info_window.html\", \"r\") as element:\n",
    "    template = element.read()\n",
    "\n",
    "\n",
    "macro = MacroElement()\n",
    "\n",
    "\n",
    "macro._template = Template(template)\n",
    "\n",
    "f = Figure().add_child(macro)\n",
    "\n",
    "f\n",
    "\n"
   ],
   "metadata": {
    "collapsed": false
   }
  },
  {
   "cell_type": "code",
   "execution_count": null,
   "outputs": [],
   "source": [],
   "metadata": {
    "collapsed": false
   }
  }
 ],
 "metadata": {
  "kernelspec": {
   "display_name": "Python 3",
   "language": "python",
   "name": "python3"
  },
  "language_info": {
   "codemirror_mode": {
    "name": "ipython",
    "version": 2
   },
   "file_extension": ".py",
   "mimetype": "text/x-python",
   "name": "python",
   "nbconvert_exporter": "python",
   "pygments_lexer": "ipython2",
   "version": "2.7.6"
  }
 },
 "nbformat": 4,
 "nbformat_minor": 0
}
